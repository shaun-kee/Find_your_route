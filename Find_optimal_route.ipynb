{
  "nbformat": 4,
  "nbformat_minor": 0,
  "metadata": {
    "colab": {
      "name": "Find_optimal_route.ipynb",
      "version": "0.3.2",
      "provenance": [],
      "collapsed_sections": [],
      "toc_visible": true,
      "include_colab_link": true
    },
    "kernelspec": {
      "name": "python3",
      "display_name": "Python 3"
    },
    "accelerator": "GPU"
  },
  "cells": [
    {
      "cell_type": "markdown",
      "metadata": {
        "id": "view-in-github",
        "colab_type": "text"
      },
      "source": [
        "<a href=\"https://colab.research.google.com/github/shaun-kee/Find_your_route/blob/master/Find_optimal_route.ipynb\" target=\"_parent\"><img src=\"https://colab.research.google.com/assets/colab-badge.svg\" alt=\"Open In Colab\"/></a>"
      ]
    },
    {
      "cell_type": "markdown",
      "metadata": {
        "id": "I2reo54xrPqC",
        "colab_type": "text"
      },
      "source": [
        "# Environment setup\n",
        "## Installing dependencies"
      ]
    },
    {
      "cell_type": "code",
      "metadata": {
        "id": "Lq9KhgDoSmsK",
        "colab_type": "code",
        "outputId": "4d691120-06fc-47b4-ca33-57a69b3ccaec",
        "colab": {
          "base_uri": "https://localhost:8080/",
          "height": 275
        }
      },
      "source": [
        "# install dependencies\n",
        "!pip install googlemaps"
      ],
      "execution_count": 0,
      "outputs": [
        {
          "output_type": "stream",
          "text": [
            "Collecting googlemaps\n",
            "  Downloading https://files.pythonhosted.org/packages/5a/3d/13b4230f3c1b8a586cdc8d8179f3c6af771c11247f8de9c166d1ab37f51d/googlemaps-3.0.2.tar.gz\n",
            "Requirement already satisfied: requests<3.0,>=2.11.1 in /usr/local/lib/python3.6/dist-packages (from googlemaps) (2.21.0)\n",
            "Requirement already satisfied: urllib3<1.25,>=1.21.1 in /usr/local/lib/python3.6/dist-packages (from requests<3.0,>=2.11.1->googlemaps) (1.24.3)\n",
            "Requirement already satisfied: certifi>=2017.4.17 in /usr/local/lib/python3.6/dist-packages (from requests<3.0,>=2.11.1->googlemaps) (2019.6.16)\n",
            "Requirement already satisfied: idna<2.9,>=2.5 in /usr/local/lib/python3.6/dist-packages (from requests<3.0,>=2.11.1->googlemaps) (2.8)\n",
            "Requirement already satisfied: chardet<3.1.0,>=3.0.2 in /usr/local/lib/python3.6/dist-packages (from requests<3.0,>=2.11.1->googlemaps) (3.0.4)\n",
            "Building wheels for collected packages: googlemaps\n",
            "  Building wheel for googlemaps (setup.py) ... \u001b[?25l\u001b[?25hdone\n",
            "  Created wheel for googlemaps: filename=googlemaps-3.0.2-cp36-none-any.whl size=31702 sha256=47908b1e77a458b67006be760415f6aff5cd365155c9a9c97403375a11a2ff37\n",
            "  Stored in directory: /root/.cache/pip/wheels/3c/3f/25/ce6d7722dba07e5d4a12d27ab38f3d7add65ef43171b02c819\n",
            "Successfully built googlemaps\n",
            "Installing collected packages: googlemaps\n",
            "Successfully installed googlemaps-3.0.2\n"
          ],
          "name": "stdout"
        }
      ]
    },
    {
      "cell_type": "markdown",
      "metadata": {
        "id": "3YtVoA4zrkht",
        "colab_type": "text"
      },
      "source": [
        "## Importing libraries"
      ]
    },
    {
      "cell_type": "code",
      "metadata": {
        "id": "Tj6C2IrR6FjN",
        "colab_type": "code",
        "colab": {}
      },
      "source": [
        "# import libraries here\n",
        "import pandas as pd\n",
        "import numpy as np\n",
        "from sklearn.cluster import KMeans, DBSCAN\n",
        "from sklearn.preprocessing import RobustScaler, MinMaxScaler\n",
        "import matplotlib.pyplot as plt\n",
        "import seaborn as sns\n",
        "\n",
        "%matplotlib inline\n",
        "\n",
        "import googlemaps\n",
        "from google.colab import files"
      ],
      "execution_count": 0,
      "outputs": []
    },
    {
      "cell_type": "markdown",
      "metadata": {
        "id": "N6XYBWAWO_tY",
        "colab_type": "text"
      },
      "source": [
        "## Load PyDrive libraries\n",
        "Install Colab dependencies to *use* Google Drive and Google API "
      ]
    },
    {
      "cell_type": "code",
      "metadata": {
        "id": "4zfeKrRw6acl",
        "colab_type": "code",
        "colab": {}
      },
      "source": [
        "# my API KEY\n",
        "API_key = 'INSERT API HERE'\n",
        "\n",
        "# Import pydrive libraries for dataset load\n",
        "!pip install -U -q PyDrive\n",
        "from pydrive.auth import GoogleAuth\n",
        "from pydrive.drive import GoogleDrive\n",
        "from google.colab import auth\n",
        "from oauth2client.client import GoogleCredentials\n",
        "\n",
        "# Authenticate and create the PyDrive client.\n",
        "auth.authenticate_user()\n",
        "gauth = GoogleAuth()\n",
        "gauth.credentials = GoogleCredentials.get_application_default()\n",
        "drive = GoogleDrive(gauth)\n",
        "\n",
        "# Load Google Map API\n",
        "gmaps = googlemaps.Client(key=API_key)"
      ],
      "execution_count": 0,
      "outputs": []
    },
    {
      "cell_type": "code",
      "metadata": {
        "id": "aY85fFTQFqk9",
        "colab_type": "code",
        "colab": {}
      },
      "source": [
        "# Load dataset into colab\n",
        "id_list = {'locations':'1Fr6xx0BrR1co-DZAofUurVkG4bUxjDVa',\n",
        "           'distribution_centre':'1vcMlmJA0ww_1brHYxuXdA86v6XJTyyPW'}\n",
        "\n",
        "for name, idx in id_list.items():\n",
        "    id = idx\n",
        "    downloaded = drive.CreateFile({'id':id}) \n",
        "    downloaded.GetContentFile('data_{}.csv'.format(name)) "
      ],
      "execution_count": 0,
      "outputs": []
    },
    {
      "cell_type": "markdown",
      "metadata": {
        "id": "ncIyWy6MHug4",
        "colab_type": "text"
      },
      "source": [
        "# Data integrity check\n",
        "When checking the data in excel, pandas dataframe and in Google map, there are a few outliers that might be present in the dataset. \n",
        "\n",
        "Most datapoints lies within Cambodia but there are 5 data points that lies in France and US. These data points are removed from the dataset. \n",
        "\n",
        "**You can skip executing this portion and jump straight to clustering section.** \n",
        "\n",
        "**A pre-processed files have been saved into Google MyDrive for later use**"
      ]
    },
    {
      "cell_type": "code",
      "metadata": {
        "id": "9z4WsLlGHhN0",
        "colab_type": "code",
        "outputId": "de8e602d-e8be-428a-8c68-ae9c378f43ac",
        "colab": {
          "base_uri": "https://localhost:8080/",
          "height": 187
        }
      },
      "source": [
        "data_df = pd.read_csv('data_locations.csv')\n",
        "\n",
        "print(data_df.dtypes, '\\n')\n",
        "print('Check if there are any null values: ', \n",
        "      data_df.Longitude.isnull().unique(), '\\n')\n",
        "print(data_df[data_df.Longitude.isnull()])"
      ],
      "execution_count": 0,
      "outputs": [
        {
          "output_type": "stream",
          "text": [
            "Parcels        int64\n",
            "Latitude      object\n",
            "Longitude    float64\n",
            "dtype: object \n",
            "\n",
            "Check if there are any null values:  [False  True] \n",
            "\n",
            "      Parcels        Latitude  Longitude\n",
            "1125     1126  Exchange Quare        NaN\n",
            "1126     1127  Exchange Quare        NaN\n"
          ],
          "name": "stdout"
        }
      ]
    },
    {
      "cell_type": "code",
      "metadata": {
        "id": "_hHPEjgOMo3V",
        "colab_type": "code",
        "colab": {}
      },
      "source": [
        "delivery_points = data_df.drop([897,898,1125,1126,1190,1191,1189,1565])"
      ],
      "execution_count": 0,
      "outputs": []
    },
    {
      "cell_type": "markdown",
      "metadata": {
        "id": "1f-OTCGQUcZx",
        "colab_type": "text"
      },
      "source": [
        "# Using Distance Matrix API\n",
        "Using Google's Distance Matrix API to extract the following information:\n",
        "\n",
        "\n",
        "*   Distance between distribution centre to delivery point\n",
        "*   Duration taken  \n",
        "*   Destination address\n",
        "\n"
      ]
    },
    {
      "cell_type": "code",
      "metadata": {
        "id": "fyEJVhQaUvbs",
        "colab_type": "code",
        "colab": {}
      },
      "source": [
        "distribution = pd.read_csv('data_distribution_centre.csv')"
      ],
      "execution_count": 0,
      "outputs": []
    },
    {
      "cell_type": "code",
      "metadata": {
        "id": "G2sE2uWfoVME",
        "colab_type": "code",
        "colab": {}
      },
      "source": [
        "def get_dist(row):\n",
        "    try:\n",
        "        destination = (float(row.Latitude), row.Longitude)\n",
        "        distribution_center = (distribution.Lat.values[0],\n",
        "                               distribution.Long.values[0])\n",
        "        results = gmaps.distance_matrix(distribution_center, destination, \n",
        "                                        mode='driving')        \n",
        "        distance = results[\"rows\"][0][\"elements\"][0][\"distance\"][\"value\"]\n",
        "        return distance    \n",
        "\n",
        "    except KeyError:\n",
        "        return None"
      ],
      "execution_count": 0,
      "outputs": []
    },
    {
      "cell_type": "code",
      "metadata": {
        "id": "UnO9FHww2Tm-",
        "colab_type": "code",
        "colab": {}
      },
      "source": [
        "def get_duration(row):\n",
        "    try:\n",
        "        destination = (float(row.Latitude), row.Longitude)\n",
        "        distribution_center = (distribution.Lat.values[0],\n",
        "                               distribution.Long.values[0])\n",
        "        results = gmaps.distance_matrix(distribution_center, destination, \n",
        "                                        mode='driving')        \n",
        "        duration = results[\"rows\"][0]['elements'][0]['duration'][\"value\"] \n",
        "        return duration    \n",
        "\n",
        "    except KeyError:\n",
        "        return None       "
      ],
      "execution_count": 0,
      "outputs": []
    },
    {
      "cell_type": "code",
      "metadata": {
        "id": "RSSDEY652qF9",
        "colab_type": "code",
        "colab": {}
      },
      "source": [
        "def get_add(row):\n",
        "    try:\n",
        "        destination = (float(row.Latitude), row.Longitude)\n",
        "        distribution_center = (distribution.Lat.values[0],\n",
        "                               distribution.Long.values[0])\n",
        "        results = gmaps.distance_matrix(distribution_center, destination, \n",
        "                                        mode='driving')        \n",
        "        add = results['destination_addresses'][0]\n",
        "        return add    \n",
        "\n",
        "    except KeyError:\n",
        "        return None       "
      ],
      "execution_count": 0,
      "outputs": []
    },
    {
      "cell_type": "code",
      "metadata": {
        "id": "0GfHvx-jq6Am",
        "colab_type": "code",
        "colab": {}
      },
      "source": [
        "delivery_points['Distance'] = delivery_points.apply(get_dist, axis=1)\n",
        "delivery_points['Duration'] = delivery_points.apply(get_duration, axis=1)\n",
        "delivery_points['Destination_Address'] = delivery_points.apply(get_add, axis=1)"
      ],
      "execution_count": 0,
      "outputs": []
    },
    {
      "cell_type": "markdown",
      "metadata": {
        "id": "_ayXYngjuQCu",
        "colab_type": "text"
      },
      "source": [
        "## Descriptive Statisitcs\n",
        "Check to see if there's any outlier or inconsistent data point"
      ]
    },
    {
      "cell_type": "code",
      "metadata": {
        "id": "TXFnaQSj32Ag",
        "colab_type": "code",
        "outputId": "791c143c-01d7-4052-c51a-74ab7fce8e4b",
        "colab": {
          "base_uri": "https://localhost:8080/",
          "height": 238
        }
      },
      "source": [
        "print(delivery_points[delivery_points.Distance.isnull()], '\\n')\n",
        "print(delivery_points.describe())"
      ],
      "execution_count": 0,
      "outputs": [
        {
          "output_type": "stream",
          "text": [
            "Empty DataFrame\n",
            "Columns: [Parcels, Latitude, Longitude, Distance, Duration, Destination_Address]\n",
            "Index: [] \n",
            "\n",
            "           Parcels    Longitude      Distance     Duration\n",
            "count  1597.000000  1597.000000   1597.000000  1597.000000\n",
            "mean    801.268629   104.910924   4533.430808  1014.603632\n",
            "std     463.773529     0.025719   4051.766104   634.482514\n",
            "min       1.000000   104.707982    457.000000   171.000000\n",
            "25%     400.000000   104.901316   2142.000000   553.000000\n",
            "50%     799.000000   104.919928   3197.000000   822.000000\n",
            "75%    1205.000000   104.925561   6207.000000  1398.000000\n",
            "max    1605.000000   105.008719  48526.000000  4680.000000\n"
          ],
          "name": "stdout"
        }
      ]
    },
    {
      "cell_type": "markdown",
      "metadata": {
        "id": "t4c3ez_LzDeL",
        "colab_type": "text"
      },
      "source": [
        "## Save preprocessed dataset for later use"
      ]
    },
    {
      "cell_type": "code",
      "metadata": {
        "id": "eOuOAXyNz013",
        "colab_type": "code",
        "outputId": "ca6cc923-b0c5-4991-b663-3785f87426e5",
        "colab": {
          "base_uri": "https://localhost:8080/",
          "height": 34
        }
      },
      "source": [
        "# save dataset into csv file\n",
        "delivery_points.to_csv('dataset.csv')\n",
        "\n",
        "# upload csv into mydrive\n",
        "dataset = drive.CreateFile({'parents' : [{u'id': '1JJQOQi6qojNS4JXCrMsfHAGWQTLrQayY'}]})\n",
        "dataset.SetContentFile('dataset.csv')\n",
        "dataset.Upload()\n",
        "\n",
        "print (drive.CreateFile({'dataset.csv': dataset.get('id')}))"
      ],
      "execution_count": 0,
      "outputs": [
        {
          "output_type": "stream",
          "text": [
            "GoogleDriveFile({'dataset.csv': '1WJxBZIsjKdK0Af6j-M4DYhxA3_CxEMvH'})\n"
          ],
          "name": "stdout"
        }
      ]
    },
    {
      "cell_type": "markdown",
      "metadata": {
        "id": "2Fceofrv1Ptn",
        "colab_type": "text"
      },
      "source": [
        "# Using Clustering methods to determine driver's coverage area\n",
        "Approach as follows: Will use 2 clustering methods (KMeans and DBScan) to see how the clusters look like for each driver\n"
      ]
    },
    {
      "cell_type": "markdown",
      "metadata": {
        "id": "0q9fg_XObab1",
        "colab_type": "text"
      },
      "source": [
        "## Using KMeans\n",
        "By looking at the different models, it appears that the best clustering is just by using the latitude and longitude to do the clustering for delivery points like this. However, features like duration and distance can be put into play for test cases where there is more than 1 well defined clusters or to break big clusters down into smaller clusters"
      ]
    },
    {
      "cell_type": "code",
      "metadata": {
        "id": "JuHTeBSsZHoY",
        "colab_type": "code",
        "colab": {}
      },
      "source": [
        "# Load dataset into colab\n",
        "id_list = {'dataset':'1WJxBZIsjKdK0Af6j-M4DYhxA3_CxEMvH'}\n",
        "\n",
        "for name, idx in id_list.items():\n",
        "    id = idx\n",
        "    downloaded = drive.CreateFile({'id':id}) \n",
        "    downloaded.GetContentFile('{}.csv'.format(name))\n",
        "    \n",
        "delivery_points = pd.read_csv('dataset.csv')\n",
        "delivery_points.Latitude = delivery_points.Latitude.astype(float)\n",
        "delivery_points.drop('Unnamed: 0',inplace=True, axis=1)"
      ],
      "execution_count": 0,
      "outputs": []
    },
    {
      "cell_type": "code",
      "metadata": {
        "id": "J2HheBX-aBF_",
        "colab_type": "code",
        "outputId": "83572f83-6851-4201-ed3c-331e25575019",
        "colab": {
          "base_uri": "https://localhost:8080/",
          "height": 111
        }
      },
      "source": [
        "delivery_points.sample(2)"
      ],
      "execution_count": 0,
      "outputs": [
        {
          "output_type": "execute_result",
          "data": {
            "text/html": [
              "<div>\n",
              "<style scoped>\n",
              "    .dataframe tbody tr th:only-of-type {\n",
              "        vertical-align: middle;\n",
              "    }\n",
              "\n",
              "    .dataframe tbody tr th {\n",
              "        vertical-align: top;\n",
              "    }\n",
              "\n",
              "    .dataframe thead th {\n",
              "        text-align: right;\n",
              "    }\n",
              "</style>\n",
              "<table border=\"1\" class=\"dataframe\">\n",
              "  <thead>\n",
              "    <tr style=\"text-align: right;\">\n",
              "      <th></th>\n",
              "      <th>Parcels</th>\n",
              "      <th>Latitude</th>\n",
              "      <th>Longitude</th>\n",
              "      <th>Distance</th>\n",
              "      <th>Duration</th>\n",
              "      <th>Destination_Address</th>\n",
              "    </tr>\n",
              "  </thead>\n",
              "  <tbody>\n",
              "    <tr>\n",
              "      <th>948</th>\n",
              "      <td>951</td>\n",
              "      <td>11.544024</td>\n",
              "      <td>104.923344</td>\n",
              "      <td>2611</td>\n",
              "      <td>817</td>\n",
              "      <td>Mao Tse Toung Boulevard (245), Phnom Penh, Cam...</td>\n",
              "    </tr>\n",
              "    <tr>\n",
              "      <th>1301</th>\n",
              "      <td>1309</td>\n",
              "      <td>11.549012</td>\n",
              "      <td>104.922259</td>\n",
              "      <td>2632</td>\n",
              "      <td>692</td>\n",
              "      <td>51/53 St 352, Phnom Penh, Cambodia</td>\n",
              "    </tr>\n",
              "  </tbody>\n",
              "</table>\n",
              "</div>"
            ],
            "text/plain": [
              "      Parcels  ...                                Destination_Address\n",
              "948       951  ...  Mao Tse Toung Boulevard (245), Phnom Penh, Cam...\n",
              "1301     1309  ...                 51/53 St 352, Phnom Penh, Cambodia\n",
              "\n",
              "[2 rows x 6 columns]"
            ]
          },
          "metadata": {
            "tags": []
          },
          "execution_count": 9
        }
      ]
    },
    {
      "cell_type": "markdown",
      "metadata": {
        "id": "O8I5dHsxs6s0",
        "colab_type": "text"
      },
      "source": [
        "### Models\n",
        "\n",
        "A few feature choices are tried and visualised using seaborn scatterplot. However, clustering of the delivery points still seem most reasonable just by using the latitude and longitude."
      ]
    },
    {
      "cell_type": "code",
      "metadata": {
        "id": "j-FCQECo2IpZ",
        "colab_type": "code",
        "colab": {}
      },
      "source": [
        "X = delivery_points[['Latitude','Longitude']]\n",
        "model = KMeans(n_clusters=25, random_state = 2019, n_jobs=-1).fit(X)"
      ],
      "execution_count": 0,
      "outputs": []
    },
    {
      "cell_type": "code",
      "metadata": {
        "id": "RtplcTJn8olE",
        "colab_type": "code",
        "colab": {}
      },
      "source": [
        "X2 = delivery_points[['Latitude','Longitude','Distance']]\n",
        "model2 = KMeans(n_clusters=25, random_state = 2019, n_jobs=-1).fit(X2)"
      ],
      "execution_count": 0,
      "outputs": []
    },
    {
      "cell_type": "code",
      "metadata": {
        "id": "QwW7XdY7EDP1",
        "colab_type": "code",
        "colab": {}
      },
      "source": [
        "X3 = delivery_points[['Latitude','Longitude','Duration']]\n",
        "model3 = KMeans(n_clusters=25, random_state = 2019, n_jobs=-1).fit(X3)"
      ],
      "execution_count": 0,
      "outputs": []
    },
    {
      "cell_type": "code",
      "metadata": {
        "id": "u7SgC7EzJEgE",
        "colab_type": "code",
        "colab": {}
      },
      "source": [
        "X4 = delivery_points[['Distance','Duration']]\n",
        "model4 = KMeans(n_clusters=25, random_state = 2019, n_jobs=-1).fit(X4)"
      ],
      "execution_count": 0,
      "outputs": []
    },
    {
      "cell_type": "code",
      "metadata": {
        "id": "YVRiH1WH7v-X",
        "colab_type": "code",
        "colab": {}
      },
      "source": [
        "delivery_points['KMeans_1'] = model.labels_\n",
        "delivery_points['KMeans_2'] = model2.labels_\n",
        "delivery_points['KMeans_3'] = model3.labels_\n",
        "delivery_points['KMeans_4'] = model4.labels_"
      ],
      "execution_count": 0,
      "outputs": []
    },
    {
      "cell_type": "markdown",
      "metadata": {
        "id": "DiUpBGZStXS5",
        "colab_type": "text"
      },
      "source": [
        "**Clustering visualisation**\n",
        "\n",
        "Since there are 25 drivers, 25 clusters are stipulated as one of the hyperparameter for the prediction model. KMeans is able to cluster the delivery points fairly good. The downside of this clustering is that more concentrated delivery points will tend be to clustered together. Making the number of delivery points each driver needs to take imbalanced. \n",
        "\n",
        "As you can see, the further clusters actually receive less delivery points when compared to where most points are located together"
      ]
    },
    {
      "cell_type": "code",
      "metadata": {
        "id": "x_kgbT_Y88Rt",
        "colab_type": "code",
        "outputId": "42e2188d-0fdc-4cbd-c2f2-c4db4cccfb81",
        "colab": {
          "base_uri": "https://localhost:8080/",
          "height": 729
        }
      },
      "source": [
        "sns.lmplot(y='Latitude', x='Longitude', data=delivery_points, \n",
        "           hue='KMeans_1', palette='Set2', fit_reg=False, \n",
        "           height=10, aspect=1, markers ='.')\n",
        "\n",
        "plt.show()"
      ],
      "execution_count": 0,
      "outputs": [
        {
          "output_type": "display_data",
          "data": {
            "image/png": "[encoded data removed]",
            "text/plain": [
              "<Figure size 778.375x720 with 1 Axes>"
            ]
          },
          "metadata": {
            "tags": []
          }
        }
      ]
    },
    {
      "cell_type": "markdown",
      "metadata": {
        "id": "tJRjTuUJbVdK",
        "colab_type": "text"
      },
      "source": [
        "## Using DBScan\n",
        "DBScan is not very good for this test case as it is not able to cluster delivery points that are on the outer skirts of the congregation of the delivery points. \n",
        "\n",
        "DBScan primarily tries to do even clusters based on the given radius parameter and treats all other points as outliers. This makes alot of delivery points to become unclassified as shown in class -1"
      ]
    },
    {
      "cell_type": "code",
      "metadata": {
        "id": "8HUWcyhb--z0",
        "colab_type": "code",
        "colab": {}
      },
      "source": [
        "scaled = MinMaxScaler().fit_transform(X4)\n",
        "model5 = DBSCAN(eps=0.0048,min_samples=15).fit(scaled)\n",
        "delivery_points['DBSCAN_1'] = model5.labels_"
      ],
      "execution_count": 0,
      "outputs": []
    },
    {
      "cell_type": "code",
      "metadata": {
        "id": "LrT5FRgeadjN",
        "colab_type": "code",
        "colab": {}
      },
      "source": [
        "scaled2 = MinMaxScaler().fit_transform(X)\n",
        "model6 = DBSCAN(eps=0.006,min_samples=10).fit(scaled2)\n",
        "delivery_points['DBSCAN_2'] = model6.labels_"
      ],
      "execution_count": 0,
      "outputs": []
    },
    {
      "cell_type": "code",
      "metadata": {
        "id": "ecmLh-IBMVHc",
        "colab_type": "code",
        "outputId": "b7b1a4b9-1223-438c-914a-d66fc822bf1c",
        "colab": {
          "base_uri": "https://localhost:8080/",
          "height": 729
        }
      },
      "source": [
        "sns.lmplot(y='Latitude', x='Longitude', data=delivery_points, \n",
        "           hue='DBSCAN_1', palette='Set2', fit_reg=False, \n",
        "           height=10, aspect=1, markers ='.')\n",
        "\n",
        "plt.show()"
      ],
      "execution_count": 0,
      "outputs": [
        {
          "output_type": "display_data",
          "data": {
            "image/png": "[encoded data removed]",
            "text/plain": [
              "<Figure size 781.5x720 with 1 Axes>"
            ]
          },
          "metadata": {
            "tags": []
          }
        }
      ]
    },
    {
      "cell_type": "markdown",
      "metadata": {
        "id": "W6JObxsGbiHE",
        "colab_type": "text"
      },
      "source": [
        "##Saving model labels into a dataset\n",
        "\n",
        "Using KMeans as the primary clustering model, generated labels is combined back to the original dataset and saved as a csv for visualising in Google Map."
      ]
    },
    {
      "cell_type": "code",
      "metadata": {
        "id": "9x9LTE7v7CoL",
        "colab_type": "code",
        "colab": {}
      },
      "source": [
        "def saver_function(filename,name):\n",
        "    # save dataset into csv file\n",
        "    filename.to_csv('{}.csv'.format(name))\n",
        "\n",
        "    # upload csv into mydrive\n",
        "    dataset = drive.CreateFile({'parents' : [{u'id': '1JJQOQi6qojNS4JXCrMsfHAGWQTLrQayY'}]})\n",
        "    dataset.SetContentFile('{}.csv'.format(name))\n",
        "    dataset.Upload()\n",
        "\n",
        "    print (drive.CreateFile({'{}.csv'.format(name): dataset.get('id')}))"
      ],
      "execution_count": 0,
      "outputs": []
    },
    {
      "cell_type": "code",
      "metadata": {
        "id": "RRA7UdXP1JLK",
        "colab_type": "code",
        "outputId": "53217987-1280-4dfc-f293-a12bd4ce7f8a",
        "colab": {
          "base_uri": "https://localhost:8080/",
          "height": 34
        }
      },
      "source": [
        "saver_function(delivery_points,'routing_dataset')"
      ],
      "execution_count": 0,
      "outputs": [
        {
          "output_type": "stream",
          "text": [
            "GoogleDriveFile({'routing_dataset.csv': '10XGJsu-GSvgV06HNanmMg3dqKG38wRqp'})\n"
          ],
          "name": "stdout"
        }
      ]
    },
    {
      "cell_type": "markdown",
      "metadata": {
        "id": "I4rjQUWacGj1",
        "colab_type": "text"
      },
      "source": [
        "#Planning driver's route\n",
        "\n",
        "A simple method is segregate each cluster out and plan the route within each cluster, given the delivery points. \n",
        "\n",
        "This makes it a simple **travelling salesman problem** where a person needs to figure out the best possible way to make it to all given points based on distance/duration proximity for each point the person have take"
      ]
    },
    {
      "cell_type": "markdown",
      "metadata": {
        "id": "lkanmczpx-du",
        "colab_type": "text"
      },
      "source": [
        "## Prepping the data\n",
        "\n",
        "More duplicates of the delivery points are removed to simplify the problem and coordinates of all the addresses are extracted before it is fed into a distance calculator to compute the distances. The distances of all points relative to the each delivery points is computed into a distance matrix\n",
        "\n",
        "This distance matrix is then used to do the routing"
      ]
    },
    {
      "cell_type": "code",
      "metadata": {
        "id": "PU_nkf6k1buo",
        "colab_type": "code",
        "colab": {}
      },
      "source": [
        "id_list = {'routing_dataset':'10XGJsu-GSvgV06HNanmMg3dqKG38wRqp'}\n",
        "\n",
        "for name, idx in id_list.items():\n",
        "    id = idx\n",
        "    downloaded = drive.CreateFile({'id':id}) \n",
        "    downloaded.GetContentFile('{}.csv'.format(name))\n",
        "    \n",
        "delivery_points = pd.read_csv('routing_dataset.csv')"
      ],
      "execution_count": 0,
      "outputs": []
    },
    {
      "cell_type": "code",
      "metadata": {
        "id": "vYVXMMc53hGp",
        "colab_type": "code",
        "colab": {}
      },
      "source": [
        "'''\n",
        "I realised that there are quite a number of duplicate delivery points \n",
        "(same latitude, longitude and destination address). I took the liberty to\n",
        "remove them in order to make the algorithm work more smoothly.\n",
        "Other than that I sort the point according to distance and duration and give\n",
        "each entry a sequence number for better referencing.\n",
        "'''\n",
        "\n",
        "def simple_routing(driver):\n",
        "    route = delivery_points[delivery_points['KMeans_1']==driver].copy()\n",
        "    route = route.sort_values(by=['Distance','Duration'], ascending=True)\n",
        "    route.drop_duplicates(['Latitude','Longitude'], keep='first',inplace=True)\n",
        "    route['Sequence'] = np.arange(len(route))\n",
        "    return route"
      ],
      "execution_count": 0,
      "outputs": []
    },
    {
      "cell_type": "code",
      "metadata": {
        "id": "IEHBztAqB1VU",
        "colab_type": "code",
        "colab": {}
      },
      "source": [
        "'''\n",
        "Extract only Latitude and Longitude coordinates from dataset\n",
        "'''\n",
        "\n",
        "def get_coordinates(num):\n",
        "    dataset = simple_routing(num)\n",
        "    coordinates = list(zip(dataset.Latitude.values,dataset.Longitude.values))\n",
        "    return coordinates"
      ],
      "execution_count": 0,
      "outputs": []
    },
    {
      "cell_type": "code",
      "metadata": {
        "id": "C4G3ZX5WDxd6",
        "colab_type": "code",
        "colab": {}
      },
      "source": [
        "'''\n",
        "This is used to call out Distance Matrix API to calculate distance between\n",
        "2 points\n",
        "'''\n",
        "\n",
        "def distance_calculator(origin, destination):\n",
        "    try:\n",
        "        results = gmaps.distance_matrix(origin, destination, \n",
        "                                        mode='driving')        \n",
        "        distance = results[\"rows\"][0][\"elements\"][0][\"distance\"][\"value\"]\n",
        "        return distance    \n",
        "\n",
        "    except KeyError:\n",
        "        return None"
      ],
      "execution_count": 0,
      "outputs": []
    },
    {
      "cell_type": "code",
      "metadata": {
        "id": "k7Q-HT9IJZbg",
        "colab_type": "code",
        "colab": {}
      },
      "source": [
        "'''\n",
        "Results from get_coordinate function is fed into the distance_calculator \n",
        "function to compute the distances with respect to each point.\n",
        "Distances are arranged in a distance matrix format\n",
        "'''\n",
        "\n",
        "def dist_matrix_row(addresses):\n",
        "    empty_lst = []\n",
        "    for num in np.arange(len(addresses)):\n",
        "        row = [distance_calculator(addresses[num],latlong) for latlong in addresses]\n",
        "        empty_lst.append(row)\n",
        "    return empty_lst"
      ],
      "execution_count": 0,
      "outputs": []
    },
    {
      "cell_type": "markdown",
      "metadata": {
        "id": "CH7cbrZ3yc0a",
        "colab_type": "text"
      },
      "source": [
        "## Computing the route\n",
        "\n",
        "Based on the initial delivery point, this algorithm will decide which is the next nearest delivery point based on distance proximity. It will then select that as the next delivery point and will repeat the process until all delivery points have been reached."
      ]
    },
    {
      "cell_type": "code",
      "metadata": {
        "id": "ItFNOIcUF28U",
        "colab_type": "code",
        "colab": {}
      },
      "source": [
        "'''\n",
        "Takes the first delivery point (Sequence 0) and searches the next nearest \n",
        "delivery point by looking at the shortest distance. The index of the shortest \n",
        "distance will be used to find the sequence number of the next delivert point.\n",
        "\n",
        "It then append the sequence number of the next delivery point as reference\n",
        "and use the next delivery point to calculate the following nearest delivery\n",
        "point. In order to prevent repetition, the algorithm will refer back to the\n",
        "reference list and pops out distances related to the points that have alry \n",
        "been listed.\n",
        "'''\n",
        "\n",
        "def route_planner(matrix):\n",
        "    sequence = [0]\n",
        "    for num in np.arange(len(matrix)):\n",
        "        idx = sequence[-1]\n",
        "        lst = []\n",
        "        \n",
        "#         print('idx:',idx)\n",
        "        \n",
        "        array = np.array(matrix[idx])\n",
        "        findzero = list(np.where(array==0)[0])\n",
        "        \n",
        "#         print('index of zero:',findzero)\n",
        "        \n",
        "        counter = 1\n",
        "        first = True\n",
        "        for i in findzero:\n",
        "            if first == True:\n",
        "                first = False\n",
        "                pass\n",
        "            else:\n",
        "#                 print('num of i is:', i)\n",
        "#                 print('matrix[i]:', matrix[i])\n",
        "                matrix[idx][i] = matrix[idx][i] + counter\n",
        "                counter += 1\n",
        "        \n",
        "        for dist in matrix[idx]:\n",
        "            if dist != 0:\n",
        "                lst.append(dist)                \n",
        "\n",
        "        for num in sequence:\n",
        "            distance = matrix[idx][num]\n",
        "            try:\n",
        "                lst.remove(distance)\n",
        "            except ValueError:\n",
        "                pass\n",
        "            \n",
        "#         print(lst)\n",
        "        try:\n",
        "            min_dist = np.min(lst)\n",
        "            min_idx = matrix[idx].index(min_dist)\n",
        "            sequence.append(min_idx)\n",
        "        except ValueError:\n",
        "            pass\n",
        "    return sequence"
      ],
      "execution_count": 0,
      "outputs": []
    },
    {
      "cell_type": "code",
      "metadata": {
        "id": "Nlb0zdOcVT1F",
        "colab_type": "code",
        "colab": {}
      },
      "source": [
        "def combiner(driver):\n",
        "    delivery_coordinates = get_coordinates(driver)\n",
        "    delivery_matrix = dist_matrix_row(delivery_coordinates)\n",
        "    delivery_plan = route_planner(delivery_matrix)\n",
        "    return delivery_plan, delivery_matrix, delivery_coordinates"
      ],
      "execution_count": 0,
      "outputs": []
    },
    {
      "cell_type": "markdown",
      "metadata": {
        "id": "C58lhOIras5M",
        "colab_type": "text"
      },
      "source": [
        "### Testing code"
      ]
    },
    {
      "cell_type": "code",
      "metadata": {
        "id": "4FPR-ONuK1c2",
        "colab_type": "code",
        "outputId": "25c7dc19-15fe-4557-9cfb-35194d8faede",
        "colab": {
          "base_uri": "https://localhost:8080/",
          "height": 68
        }
      },
      "source": [
        "x = np.array([1,0,20,0,330,0,4544,55,66,73,82])\n",
        "ans = list(np.where(x==0)[0])\n",
        "# ans = list(ans)\n",
        "print(ans)\n",
        "x = list(x)\n",
        "print(x)\n",
        "\n",
        "counter = 1\n",
        "first = True\n",
        "for idx in ans:\n",
        "    if first == True:\n",
        "        first = False\n",
        "        pass\n",
        "    else:\n",
        "        x[idx] = x[idx] + counter\n",
        "        counter += 1\n",
        "        \n",
        "print(x)"
      ],
      "execution_count": 0,
      "outputs": [
        {
          "output_type": "stream",
          "text": [
            "[1, 3, 5]\n",
            "[1, 0, 20, 0, 330, 0, 4544, 55, 66, 73, 82]\n",
            "[1, 0, 20, 1, 330, 2, 4544, 55, 66, 73, 82]\n"
          ],
          "name": "stdout"
        }
      ]
    },
    {
      "cell_type": "markdown",
      "metadata": {
        "id": "YzK2I1ZA5jjy",
        "colab_type": "text"
      },
      "source": [
        "## Visualising the route"
      ]
    },
    {
      "cell_type": "markdown",
      "metadata": {
        "id": "gnhsy_md_BOf",
        "colab_type": "text"
      },
      "source": [
        "### Driver 1"
      ]
    },
    {
      "cell_type": "code",
      "metadata": {
        "id": "mDZx0thI_A1J",
        "colab_type": "code",
        "colab": {}
      },
      "source": [
        "driver1, driver1_matrix, driver1_coordinates = combiner(1)"
      ],
      "execution_count": 0,
      "outputs": []
    },
    {
      "cell_type": "code",
      "metadata": {
        "id": "ncD8Kj39_KmI",
        "colab_type": "code",
        "outputId": "7c2ff924-657e-4a36-9f38-7e6a33dd3e7a",
        "colab": {
          "base_uri": "https://localhost:8080/",
          "height": 51
        }
      },
      "source": [
        "print('The route of driver 1 is: \\n',driver1)"
      ],
      "execution_count": 0,
      "outputs": [
        {
          "output_type": "stream",
          "text": [
            "The route of driver 1 is: \n",
            " [0, 4, 1, 2, 6, 3, 5, 7, 8, 9, 10]\n"
          ],
          "name": "stdout"
        }
      ]
    },
    {
      "cell_type": "code",
      "metadata": {
        "id": "wwz4kR_i_Qnd",
        "colab_type": "code",
        "outputId": "f17d5c8e-d05d-410f-c122-0b0d30042478",
        "colab": {
          "base_uri": "https://localhost:8080/",
          "height": 34
        }
      },
      "source": [
        "driver1_dataset = simple_routing(1)\n",
        "driver1_dataset = driver1_dataset.reset_index()\n",
        "driver1_dataset = driver1_dataset.reindex(driver1)\n",
        "saver_function(driver1_dataset,'driver1_route')"
      ],
      "execution_count": 0,
      "outputs": [
        {
          "output_type": "stream",
          "text": [
            "GoogleDriveFile({'driver1_route.csv': '1KySg318AwrzPa8mkX17P73rFyupaR0wH'})\n"
          ],
          "name": "stdout"
        }
      ]
    },
    {
      "cell_type": "markdown",
      "metadata": {
        "id": "hYXYt4euBfFB",
        "colab_type": "text"
      },
      "source": [
        "### Driver 7"
      ]
    },
    {
      "cell_type": "code",
      "metadata": {
        "colab_type": "code",
        "outputId": "2b3ab30b-4356-42fa-c6fe-152844f5b159",
        "id": "13Z8YmGzBaIe",
        "colab": {
          "base_uri": "https://localhost:8080/",
          "height": 71
        }
      },
      "source": [
        "driver7, driver7_matrix, driver7_coordinates = combiner(7)\n",
        "print('The route of driver 7 is: \\n',driver7)"
      ],
      "execution_count": 0,
      "outputs": [
        {
          "output_type": "stream",
          "text": [
            "The route of driver 7 is: \n",
            " [0, 3, 8, 17, 21, 26, 29, 26, 30, 25, 32, 37, 36, 34, 35, 31, 39, 41, 42, 25, 32, 12, 5, 13, 14, 2, 1, 7, 11, 2, 15, 18, 22, 19, 20, 23, 9, 4, 9, 16, 6, 24, 28, 38, 40, 43, 45, 47, 48, 46, 44]\n"
          ],
          "name": "stdout"
        }
      ]
    },
    {
      "cell_type": "code",
      "metadata": {
        "colab_type": "code",
        "outputId": "38daa2db-4aa3-4c10-bd19-2a826f483253",
        "id": "eLk_zBwuBaIh",
        "colab": {
          "base_uri": "https://localhost:8080/",
          "height": 34
        }
      },
      "source": [
        "driver7_dataset = simple_routing(7)\n",
        "driver7_dataset = driver7_dataset.reset_index()\n",
        "driver7_dataset = driver7_dataset.reindex(driver7)\n",
        "saver_function(driver7_dataset,'driver7_route')"
      ],
      "execution_count": 0,
      "outputs": [
        {
          "output_type": "stream",
          "text": [
            "GoogleDriveFile({'driver7_route.csv': '1YXU-0dF6dp9PcXeN-8DTXwh5qGxH63Cv'})\n"
          ],
          "name": "stdout"
        }
      ]
    },
    {
      "cell_type": "markdown",
      "metadata": {
        "id": "oIkVNJ_B-NeY",
        "colab_type": "text"
      },
      "source": [
        "### Driver 8"
      ]
    },
    {
      "cell_type": "code",
      "metadata": {
        "id": "DK-KcFm63t4P",
        "colab_type": "code",
        "colab": {}
      },
      "source": [
        "driver8, driver8_matrix, driver8_coordinates = combiner(8)"
      ],
      "execution_count": 0,
      "outputs": []
    },
    {
      "cell_type": "code",
      "metadata": {
        "id": "tCuFk-ue3x7t",
        "colab_type": "code",
        "outputId": "675b425e-c9c9-4978-a0e5-494659d9ea9e",
        "colab": {
          "base_uri": "https://localhost:8080/",
          "height": 51
        }
      },
      "source": [
        "print('The route of driver 8 is: \\n',driver8)"
      ],
      "execution_count": 0,
      "outputs": [
        {
          "output_type": "stream",
          "text": [
            "The route of driver 8 is: \n",
            " [0, 1, 9, 19, 9, 20, 30, 31, 34, 23, 25, 26, 27, 33, 35, 17, 32, 5, 6, 7, 3, 8, 11, 14, 29, 13, 21, 15, 22, 12, 18, 2, 4, 16, 24, 28]\n"
          ],
          "name": "stdout"
        }
      ]
    },
    {
      "cell_type": "code",
      "metadata": {
        "id": "YCEk0j46aD23",
        "colab_type": "code",
        "outputId": "6f3ba8f1-bae1-4014-9737-0cc59894ae4d",
        "colab": {
          "base_uri": "https://localhost:8080/",
          "height": 34
        }
      },
      "source": [
        "driver8_dataset = simple_routing(8)\n",
        "driver8_dataset = driver8_dataset.reset_index()\n",
        "driver8_dataset = driver8_dataset.reindex(driver8)\n",
        "saver_function(driver8_dataset,'driver8_route')"
      ],
      "execution_count": 0,
      "outputs": [
        {
          "output_type": "stream",
          "text": [
            "GoogleDriveFile({'driver8_route.csv': '14gXduD4r-CjoyEYtYOChrm7BdCCUrhU5'})\n"
          ],
          "name": "stdout"
        }
      ]
    },
    {
      "cell_type": "markdown",
      "metadata": {
        "id": "bLbrh0eJ-Vpx",
        "colab_type": "text"
      },
      "source": [
        "### Driver 21"
      ]
    },
    {
      "cell_type": "code",
      "metadata": {
        "id": "vtM8liQG_Zh4",
        "colab_type": "code",
        "colab": {}
      },
      "source": [
        "driver21, driver21_matrix, driver21_coordinates = combiner(21)"
      ],
      "execution_count": 0,
      "outputs": []
    },
    {
      "cell_type": "code",
      "metadata": {
        "colab_type": "code",
        "outputId": "868bd6e3-ec0f-459c-cd64-4066339dd8c7",
        "id": "ppNTlXxZ_X7H",
        "colab": {
          "base_uri": "https://localhost:8080/",
          "height": 51
        }
      },
      "source": [
        "print('The route of driver 21 is: \\n',driver21)"
      ],
      "execution_count": 0,
      "outputs": [
        {
          "output_type": "stream",
          "text": [
            "The route of driver 21 is: \n",
            " [0, 4, 5, 6, 3, 7, 8, 1, 2]\n"
          ],
          "name": "stdout"
        }
      ]
    },
    {
      "cell_type": "code",
      "metadata": {
        "colab_type": "code",
        "outputId": "bd229b4b-7874-4d7e-c08f-3f460ec7b218",
        "id": "slL--zB1_X7L",
        "colab": {
          "base_uri": "https://localhost:8080/",
          "height": 34
        }
      },
      "source": [
        "driver21_dataset = simple_routing(21)\n",
        "driver21_dataset = driver21_dataset.reset_index()\n",
        "driver21_dataset = driver21_dataset.reindex(driver21)\n",
        "saver_function(driver21_dataset,'driver21_route')"
      ],
      "execution_count": 0,
      "outputs": [
        {
          "output_type": "stream",
          "text": [
            "GoogleDriveFile({'driver21_route.csv': '12FfE_GQVsaG6_R5-8qBVTS9b6Uw8ovX_'})\n"
          ],
          "name": "stdout"
        }
      ]
    },
    {
      "cell_type": "markdown",
      "metadata": {
        "colab_type": "text",
        "id": "AJWSlIIOlCvi"
      },
      "source": [
        "### Driver 10"
      ]
    },
    {
      "cell_type": "code",
      "metadata": {
        "colab_type": "code",
        "id": "6zzJlBoGlCvt",
        "colab": {}
      },
      "source": [
        "driver10, driver10_matrix, driver10_coordinates = combiner(10)"
      ],
      "execution_count": 0,
      "outputs": []
    },
    {
      "cell_type": "code",
      "metadata": {
        "colab_type": "code",
        "outputId": "b7dd1b76-9f3b-446a-d5c8-894c3aeaa58b",
        "id": "qyVh_yu-lCvx",
        "colab": {
          "base_uri": "https://localhost:8080/",
          "height": 51
        }
      },
      "source": [
        "print('The route of driver 10 is: \\n',driver10)"
      ],
      "execution_count": 0,
      "outputs": [
        {
          "output_type": "stream",
          "text": [
            "The route of driver 10 is: \n",
            " [0, 3, 4, 5, 6, 7, 1, 2, 8, 9]\n"
          ],
          "name": "stdout"
        }
      ]
    },
    {
      "cell_type": "code",
      "metadata": {
        "colab_type": "code",
        "outputId": "b3d1b52f-3bee-4b31-b0bc-3603d9f8195a",
        "id": "hJDv72p2lCv1",
        "colab": {
          "base_uri": "https://localhost:8080/",
          "height": 34
        }
      },
      "source": [
        "driver10_dataset = simple_routing(10)\n",
        "driver10_dataset = driver10_dataset.reset_index()\n",
        "driver10_dataset = driver10_dataset.reindex(driver10)\n",
        "saver_function(driver10_dataset,'driver10_route')"
      ],
      "execution_count": 0,
      "outputs": [
        {
          "output_type": "stream",
          "text": [
            "GoogleDriveFile({'driver10_route.csv': '15pOwNcRocEm1zfcJYDKOWB4lpPSgaQ3B'})\n"
          ],
          "name": "stdout"
        }
      ]
    }
  ]
}